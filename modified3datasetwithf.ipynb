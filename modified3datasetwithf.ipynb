{
 "cells": [
  {
   "cell_type": "code",
   "execution_count": 1,
   "metadata": {},
   "outputs": [
    {
     "name": "stdout",
     "output_type": "stream",
     "text": [
      "-0.317687\n"
     ]
    }
   ],
   "source": [
    "import math\n",
    "def correlationCoefficient(X, Y, n) :\n",
    "    sum_X = 0\n",
    "    sum_Y = 0\n",
    "    sum_XY = 0\n",
    "    squareSum_X = 0\n",
    "    squareSum_Y = 0\n",
    "    i = 0\n",
    "    while i < n :\n",
    "        sum_X = sum_X + X[i]\n",
    "        sum_Y = sum_Y + Y[i]\n",
    "        sum_XY = sum_XY + X[i] * Y[i]\n",
    "        squareSum_X = squareSum_X + X[i] * X[i]\n",
    "        squareSum_Y = squareSum_Y + Y[i] * Y[i]\n",
    "        i = i + 1\n",
    "    corr = (float)(n * sum_XY - sum_X * sum_Y)/(float)(math.sqrt((n * squareSum_X - sum_X * sum_X)* (n * squareSum_Y - sum_Y * sum_Y)))\n",
    "    return corr\n",
    "X=[15,26,10,9,15,20,18,11,8,20]\n",
    "Y=[115,97,93,106,132,133,98,135,154,119]\n",
    "n = len(X)\n",
    "print ('{0:.6f}'.format(correlationCoefficient(X, Y, n))) "
   ]
  },
  {
   "cell_type": "code",
   "execution_count": 2,
   "metadata": {},
   "outputs": [
    {
     "name": "stdout",
     "output_type": "stream",
     "text": [
      "0.792123\n"
     ]
    }
   ],
   "source": [
    "import math\n",
    "def correlationCoefficient(X, Y, n) :\n",
    "    sum_X = 0\n",
    "    sum_Y = 0\n",
    "    sum_XY = 0\n",
    "    squareSum_X = 0\n",
    "    squareSum_Y = 0\n",
    "    i = 0\n",
    "    while i < n :\n",
    "        sum_X = sum_X + X[i]\n",
    "        sum_Y = sum_Y + Y[i]\n",
    "        sum_XY = sum_XY + X[i] * Y[i]\n",
    "        squareSum_X = squareSum_X + X[i] * X[i]\n",
    "        squareSum_Y = squareSum_Y + Y[i] * Y[i]\n",
    "        i = i + 1\n",
    "    corr = (float)(n * sum_XY - sum_X * sum_Y)/(float)(math.sqrt((n * squareSum_X - sum_X * sum_X)* (n * squareSum_Y - sum_Y * sum_Y)))\n",
    "    return corr\n",
    "X=[2,2,1,3,4,1,5,3,1,2]\n",
    "Y=[13,35,22,39,60,36,86,50,38,54]\n",
    "n = len(X)\n",
    "print ('{0:.6f}'.format(correlationCoefficient(X, Y, n))) "
   ]
  },
  {
   "cell_type": "code",
   "execution_count": 3,
   "metadata": {},
   "outputs": [
    {
     "name": "stdout",
     "output_type": "stream",
     "text": [
      "0.649039\n"
     ]
    }
   ],
   "source": [
    "import math\n",
    "def correlationCoefficient(X, Y, n) :\n",
    "    sum_X = 0\n",
    "    sum_Y = 0\n",
    "    sum_XY = 0\n",
    "    squareSum_X = 0\n",
    "    squareSum_Y = 0\n",
    "    i = 0\n",
    "    while i < n :\n",
    "        sum_X = sum_X + X[i]\n",
    "        sum_Y = sum_Y + Y[i]\n",
    "        sum_XY = sum_XY + X[i] * Y[i]\n",
    "        squareSum_X = squareSum_X + X[i] * X[i]\n",
    "        squareSum_Y = squareSum_Y + Y[i] * Y[i]\n",
    "        i = i + 1\n",
    "    corr = (float)(n * sum_XY - sum_X * sum_Y)/(float)(math.sqrt((n * squareSum_X - sum_X * sum_X)* (n * squareSum_Y - sum_Y * sum_Y)))\n",
    "    return corr\n",
    "X=[20,30,40,50,60]\n",
    "Y=[34,48,35,43,54]\n",
    "n = len(X)\n",
    "print ('{0:.6f}'.format(correlationCoefficient(X, Y, n))) "
   ]
  },
  {
   "cell_type": "code",
   "execution_count": null,
   "metadata": {},
   "outputs": [],
   "source": []
  }
 ],
 "metadata": {
  "kernelspec": {
   "display_name": "Python 3",
   "language": "python",
   "name": "python3"
  },
  "language_info": {
   "codemirror_mode": {
    "name": "ipython",
    "version": 3
   },
   "file_extension": ".py",
   "mimetype": "text/x-python",
   "name": "python",
   "nbconvert_exporter": "python",
   "pygments_lexer": "ipython3",
   "version": "3.7.6"
  }
 },
 "nbformat": 4,
 "nbformat_minor": 4
}
