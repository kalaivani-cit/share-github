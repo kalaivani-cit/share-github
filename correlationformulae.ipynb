{
 "cells": [
  {
   "cell_type": "code",
   "execution_count": 2,
   "metadata": {},
   "outputs": [
    {
     "data": {
      "text/plain": [
       "0.9628827988813001"
      ]
     },
     "execution_count": 2,
     "metadata": {},
     "output_type": "execute_result"
    }
   ],
   "source": [
    "import pandas as pd\n",
    "from scipy import stats\n",
    "df=pd.read_csv(\"https://raw.githubusercontent.com/Opensourcefordatascience/Data-sets/master/diamonds.csv\")\n",
    "df[[\"carat\",\"price\",\"depth\"]].describe()\n",
    "df['carat'].corr(df['price'],method='spearman')\n"
   ]
  },
  {
   "cell_type": "code",
   "execution_count": 3,
   "metadata": {},
   "outputs": [
    {
     "data": {
      "text/plain": [
       "0.9215913011934779"
      ]
     },
     "execution_count": 3,
     "metadata": {},
     "output_type": "execute_result"
    }
   ],
   "source": [
    "import pandas as pd\n",
    "from scipy import stats\n",
    "df=pd.read_csv(\"https://raw.githubusercontent.com/Opensourcefordatascience/Data-sets/master/diamonds.csv\")\n",
    "df[[\"carat\",\"price\",\"depth\"]].describe()\n",
    "df['carat'].corr(df['price'],method='pearson')"
   ]
  },
  {
   "cell_type": "code",
   "execution_count": 4,
   "metadata": {},
   "outputs": [
    {
     "name": "stdout",
     "output_type": "stream",
     "text": [
      "            arrow     under      interior         theta         amb  \\\n",
      "0     5718.086525 -1.614321  1.555158e+11  11213.081938   95.426020   \n",
      "1     3230.167947  0.066989  1.853956e+12  21130.628512   12.420615   \n",
      "2     7557.771756 -0.067705  8.501664e+10  13804.152665  152.939420   \n",
      "3     6555.190363 -1.253076  1.194396e+12   7549.844014  457.351838   \n",
      "4     3201.371780  0.327282  5.787566e+11  32745.773149  228.577117   \n",
      "..            ...       ...           ...           ...         ...   \n",
      "995   2749.811424 -0.176609  6.983382e+11  14876.319862  359.422059   \n",
      "996  10442.170370  0.198591  1.031882e+11  42350.604291  237.297761   \n",
      "997   4707.664579 -0.207417  1.782266e+12  16707.938824   39.739406   \n",
      "998   9834.339698 -0.859573  1.528939e+11  29350.577025  106.775051   \n",
      "999   5472.292507  0.492024  1.006050e+10  22292.142976  420.824873   \n",
      "\n",
      "            slice       delta            pi        height            nu  \\\n",
      "0     7425.427256  -10.406357   9680.358706  7.120126e+06  1.546267e+07   \n",
      "1    12649.208494 -115.874083   8052.298378  2.075786e+07  4.522003e+06   \n",
      "2     9134.779756  -30.421137   1246.712864  1.078952e+07  6.069516e+06   \n",
      "3     2475.142419 -129.555563   5177.525187  7.995510e+05  2.238686e+07   \n",
      "4     1545.254659 -101.958575  14579.206899  3.122909e+05  5.824294e+07   \n",
      "..            ...         ...           ...           ...           ...   \n",
      "995   5360.529437  -15.470713   5558.872651  3.752686e+06  1.456308e+07   \n",
      "996   1805.076239 -137.095005   7773.621385  4.310311e+05  2.339491e+07   \n",
      "997  10515.936575 -123.725702   2405.422466  1.431426e+07  4.491697e+06   \n",
      "998    847.838840  -99.164608  14315.197116  9.967555e+04  3.625620e+07   \n",
      "999  12143.240154   43.287162  11660.432077  1.903369e+07  2.410389e+07   \n",
      "\n",
      "         night       dataset    length          twi          x          wind  \\\n",
      "0     7.240413   9850.207734  0.743258  1490.775204   9.659253   9175.438093   \n",
      "1    10.999659  10969.549522 -0.553688   838.891244   9.635378   5166.583785   \n",
      "2    11.991673   4253.498794 -0.201762   462.904173  10.522631  12130.240191   \n",
      "3    11.507596   5478.190397 -0.153284   361.526737  10.371287  10540.522103   \n",
      "4     8.458106   6334.157647  0.213162   677.949043  11.476100   5132.024696   \n",
      "..         ...           ...       ...          ...        ...           ...   \n",
      "995   7.417568   5807.408570 -1.167784   370.423961   7.110374   4406.283830   \n",
      "996   7.703437  10113.582272 -0.202420  1316.081208  10.507030  16778.437643   \n",
      "997   8.988166   8506.997588 -0.107590  1421.379842  10.927412   7551.160916   \n",
      "998  10.156257     26.337454 -1.998184  1383.605685  12.519678  15793.503610   \n",
      "999   9.960025   7150.618716 -1.302128   325.470826  10.123276   8778.008571   \n",
      "\n",
      "             y           rho       alpha  \n",
      "0    -6.254395  1.291731e+23  437.103839  \n",
      "1   -88.489405  9.618581e+21  307.629683  \n",
      "2   -36.244784  3.233375e+19  400.425188  \n",
      "3   -67.820561  2.021548e+22  671.267621  \n",
      "4   -42.244775  9.174238e+19  491.662760  \n",
      "..         ...           ...         ...  \n",
      "995 -48.266589  9.105152e+22  119.853953  \n",
      "996   1.961629  5.699698e+22    8.092722  \n",
      "997 -49.380483  4.089604e+18  435.225825  \n",
      "998  -1.598941  2.967663e+23  554.982066  \n",
      "999 -22.666388  2.759391e+21  515.378577  \n",
      "\n",
      "[1000 rows x 19 columns]\n"
     ]
    }
   ],
   "source": [
    "import pandas as pd\n",
    "from scipy import stats\n",
    "df=pd.read_csv('https://www.dropbox.com/s/4jgheggd1dak5pw/data_visualization.csv?raw=1', index_col=0)\n",
    "print(df)"
   ]
  },
  {
   "cell_type": "code",
   "execution_count": 5,
   "metadata": {},
   "outputs": [
    {
     "data": {
      "text/plain": [
       "0.01694087294087294"
      ]
     },
     "execution_count": 5,
     "metadata": {},
     "output_type": "execute_result"
    }
   ],
   "source": [
    "import pandas as pd\n",
    "from scipy import stats\n",
    "df=pd.read_csv('https://www.dropbox.com/s/4jgheggd1dak5pw/data_visualization.csv?raw=1', index_col=0)\n",
    "df['arrow'].corr(df['under'],method='spearman')"
   ]
  },
  {
   "cell_type": "code",
   "execution_count": 6,
   "metadata": {},
   "outputs": [
    {
     "data": {
      "text/plain": [
       "0.008854684205478835"
      ]
     },
     "execution_count": 6,
     "metadata": {},
     "output_type": "execute_result"
    }
   ],
   "source": [
    "import pandas as pd\n",
    "from scipy import stats\n",
    "df=pd.read_csv('https://www.dropbox.com/s/4jgheggd1dak5pw/data_visualization.csv?raw=1', index_col=0)\n",
    "df['arrow'].corr(df['under'],method='pearson')"
   ]
  },
  {
   "cell_type": "code",
   "execution_count": 9,
   "metadata": {},
   "outputs": [
    {
     "name": "stdout",
     "output_type": "stream",
     "text": [
      "Pearsons correlation: 0.188\n"
     ]
    }
   ],
   "source": [
    "from sklearn.datasets import load_diabetes\n",
    "from scipy.stats import pearsonr\n",
    "data=load_diabetes()\n",
    "data1=data.data[:,0]\n",
    "data2=data.target\n",
    "corr,_=pearsonr(data1,data2)\n",
    "print ('Pearsons correlation: %.3f' % corr)"
   ]
  },
  {
   "cell_type": "code",
   "execution_count": 10,
   "metadata": {},
   "outputs": [
    {
     "name": "stdout",
     "output_type": "stream",
     "text": [
      "Pearsons correlation: -0.388\n"
     ]
    }
   ],
   "source": [
    "from sklearn.datasets import load_boston\n",
    "from scipy.stats import pearsonr\n",
    "data=load_boston()\n",
    "data1=data.data[:,0]\n",
    "data2=data.target\n",
    "corr,_=pearsonr(data1,data2)\n",
    "print ('Pearsons correlation: %.3f' % corr)"
   ]
  },
  {
   "cell_type": "code",
   "execution_count": 11,
   "metadata": {},
   "outputs": [
    {
     "name": "stdout",
     "output_type": "stream",
     "text": [
      "Spearman correlation: -0.559\n"
     ]
    }
   ],
   "source": [
    "from sklearn.datasets import load_boston\n",
    "from scipy.stats import spearmanr\n",
    "data=load_boston()\n",
    "data1=data.data[:,0]\n",
    "data2=data.target\n",
    "corr,_=spearmanr(data1,data2)\n",
    "print ('Spearman correlation: %.3f' % corr)"
   ]
  },
  {
   "cell_type": "code",
   "execution_count": 13,
   "metadata": {},
   "outputs": [
    {
     "name": "stdout",
     "output_type": "stream",
     "text": [
      "Spearman correlation: 0.198\n"
     ]
    }
   ],
   "source": [
    "from sklearn.datasets import load_diabetes\n",
    "from scipy.stats import spearmanr\n",
    "data=load_diabetes()\n",
    "data1=data.data[:,0]\n",
    "data2=data.target\n",
    "corr,_=spearmanr(data1,data2)\n",
    "print ('Spearman correlation: %.3f' % corr)"
   ]
  },
  {
   "cell_type": "code",
   "execution_count": 14,
   "metadata": {},
   "outputs": [
    {
     "name": "stdout",
     "output_type": "stream",
     "text": [
      "Spearman correlation: -0.733\n"
     ]
    }
   ],
   "source": [
    "from sklearn.datasets import load_breast_cancer\n",
    "from scipy.stats import spearmanr\n",
    "data=load_breast_cancer()\n",
    "data1=data.data[:,0]\n",
    "data2=data.target\n",
    "corr,_=spearmanr(data1,data2)\n",
    "print ('Spearman correlation: %.3f' % corr)"
   ]
  },
  {
   "cell_type": "code",
   "execution_count": 15,
   "metadata": {},
   "outputs": [
    {
     "name": "stdout",
     "output_type": "stream",
     "text": [
      "Pearsons correlation: -0.730\n"
     ]
    }
   ],
   "source": [
    "from sklearn.datasets import load_breast_cancer\n",
    "from scipy.stats import pearsonr\n",
    "data=load_breast_cancer()\n",
    "data1=data.data[:,0]\n",
    "data2=data.target\n",
    "corr,_=pearsonr(data1,data2)\n",
    "print ('Pearsons correlation: %.3f' % corr)"
   ]
  },
  {
   "cell_type": "code",
   "execution_count": null,
   "metadata": {},
   "outputs": [],
   "source": []
  }
 ],
 "metadata": {
  "kernelspec": {
   "display_name": "Python 3",
   "language": "python",
   "name": "python3"
  },
  "language_info": {
   "codemirror_mode": {
    "name": "ipython",
    "version": 3
   },
   "file_extension": ".py",
   "mimetype": "text/x-python",
   "name": "python",
   "nbconvert_exporter": "python",
   "pygments_lexer": "ipython3",
   "version": "3.7.6"
  }
 },
 "nbformat": 4,
 "nbformat_minor": 4
}
