{
 "cells": [
  {
   "cell_type": "code",
   "execution_count": 2,
   "metadata": {},
   "outputs": [
    {
     "name": "stdout",
     "output_type": "stream",
     "text": [
      "0.187889\n"
     ]
    }
   ],
   "source": [
    "import math\n",
    "from sklearn.datasets import load_diabetes\n",
    "def correlationCoefficient(X, Y, n) :\n",
    "    sum_X = 0\n",
    "    sum_Y = 0\n",
    "    sum_XY = 0\n",
    "    squareSum_X = 0\n",
    "    squareSum_Y = 0\n",
    "    i = 0\n",
    "    while i < n :\n",
    "        sum_X = sum_X + X[i]\n",
    "        sum_Y = sum_Y + Y[i]\n",
    "        sum_XY = sum_XY + X[i] * Y[i]\n",
    "        squareSum_X = squareSum_X + X[i] * X[i]\n",
    "        squareSum_Y = squareSum_Y + Y[i] * Y[i]\n",
    "        i = i + 1\n",
    "    corr = (float)(n * sum_XY - sum_X * sum_Y)/(float)(math.sqrt((n * squareSum_X - sum_X * sum_X)* (n * squareSum_Y - sum_Y * sum_Y)))\n",
    "    return corr\n",
    "data = load_diabetes()\n",
    "X=data.data[:,0]\n",
    "Y=data.target\n",
    "n = len(X)\n",
    "print ('{0:.6f}'.format(correlationCoefficient(X, Y, n))) "
   ]
  },
  {
   "cell_type": "code",
   "execution_count": 6,
   "metadata": {},
   "outputs": [
    {
     "name": "stdout",
     "output_type": "stream",
     "text": [
      "-0.388305\n"
     ]
    }
   ],
   "source": [
    "import math\n",
    "from sklearn.datasets import load_boston\n",
    "def correlationCoefficient(X, Y, n) :\n",
    "    sum_X = 0\n",
    "    sum_Y = 0\n",
    "    sum_XY = 0\n",
    "    squareSum_X = 0\n",
    "    squareSum_Y = 0\n",
    "    i = 0\n",
    "    while i < n :\n",
    "        sum_X = sum_X + X[i]\n",
    "        sum_Y = sum_Y + Y[i]\n",
    "        sum_XY = sum_XY + X[i] * Y[i]\n",
    "        squareSum_X = squareSum_X + X[i] * X[i]\n",
    "        squareSum_Y = squareSum_Y + Y[i] * Y[i]\n",
    "        i = i + 1\n",
    "    corr = (float)(n * sum_XY - sum_X * sum_Y)/(float)(math.sqrt((n * squareSum_X - sum_X * sum_X)* (n * squareSum_Y - sum_Y * sum_Y)))\n",
    "    return corr\n",
    "data = load_boston()\n",
    "X=data.data[:,0]\n",
    "Y=data.target\n",
    "n = len(X)\n",
    "print ('{0:.6f}'.format(correlationCoefficient(X, Y, n))) \n",
    "\n"
   ]
  },
  {
   "cell_type": "code",
   "execution_count": 7,
   "metadata": {},
   "outputs": [
    {
     "name": "stdout",
     "output_type": "stream",
     "text": [
      "-0.730029\n"
     ]
    }
   ],
   "source": [
    "import math\n",
    "from sklearn.datasets import load_breast_cancer\n",
    "def correlationCoefficient(X, Y, n) :\n",
    "    sum_X = 0\n",
    "    sum_Y = 0\n",
    "    sum_XY = 0\n",
    "    squareSum_X = 0\n",
    "    squareSum_Y = 0\n",
    "    i = 0\n",
    "    while i < n :\n",
    "        sum_X = sum_X + X[i]\n",
    "        sum_Y = sum_Y + Y[i]\n",
    "        sum_XY = sum_XY + X[i] * Y[i]\n",
    "        squareSum_X = squareSum_X + X[i] * X[i]\n",
    "        squareSum_Y = squareSum_Y + Y[i] * Y[i]\n",
    "        i = i + 1\n",
    "    corr = (float)(n * sum_XY - sum_X * sum_Y)/(float)(math.sqrt((n * squareSum_X - sum_X * sum_X)* (n * squareSum_Y - sum_Y * sum_Y)))\n",
    "    return corr\n",
    "data = load_breast_cancer()\n",
    "X=data.data[:,0]\n",
    "Y=data.target\n",
    "n = len(X)\n",
    "print ('{0:.6f}'.format(correlationCoefficient(X, Y, n))) \n",
    "\n"
   ]
  },
  {
   "cell_type": "code",
   "execution_count": 5,
   "metadata": {},
   "outputs": [
    {
     "name": "stdout",
     "output_type": "stream",
     "text": [
      "-0.388305\n"
     ]
    }
   ],
   "source": []
  },
  {
   "cell_type": "code",
   "execution_count": null,
   "metadata": {},
   "outputs": [],
   "source": []
  }
 ],
 "metadata": {
  "kernelspec": {
   "display_name": "Python 3",
   "language": "python",
   "name": "python3"
  },
  "language_info": {
   "codemirror_mode": {
    "name": "ipython",
    "version": 3
   },
   "file_extension": ".py",
   "mimetype": "text/x-python",
   "name": "python",
   "nbconvert_exporter": "python",
   "pygments_lexer": "ipython3",
   "version": "3.7.6"
  }
 },
 "nbformat": 4,
 "nbformat_minor": 4
}
